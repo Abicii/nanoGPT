{
  "cells": [
    {
      "cell_type": "markdown",
      "source": [
        "#Project Description:\n",
        "\n",
        "The objective of this project is to implement the GPT algorithm, as demonstrated in the\n",
        "provided YouTube tutorial video, to build a character prediction model. The candidate is\n",
        "required to complete this project using Python and the PyTorch library, focusing on\n",
        "creating a clean, efficient, and well-structured implementation.\n",
        "Deadline:\n",
        "48 Hours\n",
        "#Project Scope:\n",
        "1. Develop a functional GPT-based character prediction model capable of predicting\n",
        "the next character in a given text sequence.\n",
        "2. Ensure the implementation is modular for potential future integration into larger\n",
        "language understanding systems or applications.\n",
        "\n",
        "#Core Concepts Tested:\n",
        "1. GPT Algorithm: Comprehensive understanding of the GPT algorithm and its\n",
        "application in character prediction tasks.\n",
        "2. PyTorch Implementation: Proficiency in leveraging the PyTorch library for\n",
        "implementing, training, and evaluating the GPT model.\n",
        "3. Tokenization: Competence in text tokenization, including character-level\n",
        "tokenization and input encoding.\n",
        "4. Self-attention Mechanism: In-depth understanding of self-attention mechanisms and\n",
        "their implementation in the GPT model, encompassing multi-head attention.\n",
        "5. Model Training and Evaluation: Capability to effectively train the GPT model using\n",
        "optimization techniques, including the SGD optimizer and Adam algorithm, and the\n",
        "use of cross-entropy loss functions. Competence in evaluating the model's\n",
        "6. Optimization and Hyperparameter Tuning: Expertise in optimizing the model,\n",
        "employing residual connections, layer normalization, and adjusting learning rates."
      ],
      "metadata": {
        "id": "-jVs_hCQ3_dp"
      }
    },
    {
      "cell_type": "code",
      "execution_count": null,
      "metadata": {
        "id": "yfLXmhPAMADo"
      },
      "outputs": [],
      "source": [
        "import torch\n",
        "import torch.nn as nn\n",
        "from torch.nn import functional as F"
      ]
    },
    {
      "cell_type": "code",
      "execution_count": null,
      "metadata": {
        "id": "vXI1vXzzMADq",
        "outputId": "97bfd738-9e8a-468f-9c0c-18ea37114aa6"
      },
      "outputs": [
        {
          "data": {
            "text/plain": [
              "<torch._C.Generator at 0x236852049f0>"
            ]
          },
          "execution_count": 85,
          "metadata": {},
          "output_type": "execute_result"
        }
      ],
      "source": [
        "torch.manual_seed(1337)"
      ]
    },
    {
      "cell_type": "markdown",
      "source": [
        "Load Dataset"
      ],
      "metadata": {
        "id": "YWSTGM8nFgFH"
      }
    },
    {
      "cell_type": "code",
      "execution_count": null,
      "metadata": {
        "id": "DHXkitzTMADq"
      },
      "outputs": [],
      "source": [
        "with open('input.txt', 'r', encoding='utf-8') as f:\n",
        "    text = f.read()\n"
      ]
    },
    {
      "cell_type": "markdown",
      "source": [
        "Tokenization and Encoding/Decoding input text"
      ],
      "metadata": {
        "id": "h37ReSszFkhk"
      }
    },
    {
      "cell_type": "code",
      "execution_count": null,
      "metadata": {
        "id": "nW706XlxMADr"
      },
      "outputs": [],
      "source": [
        "chars = sorted(list(set(text)))\n",
        "vocab_size = len(chars)\n",
        "# create a mapping from characters to integers\n",
        "char2idx = {u:i for i, u in enumerate(chars)}\n",
        "idx2char = {i:u for i, u in enumerate(chars)}\n",
        "encode = lambda s : [char2idx[c] for c in s]\n",
        "decode = lambda l : ''.join([idx2char[i] for i in l])"
      ]
    },
    {
      "cell_type": "markdown",
      "source": [
        "Train-Test Split"
      ],
      "metadata": {
        "id": "S_-2H7QeFwtN"
      }
    },
    {
      "cell_type": "code",
      "execution_count": null,
      "metadata": {
        "id": "N_cTKu0MMADr"
      },
      "outputs": [],
      "source": [
        "data = torch.tensor(encode(text), dtype=torch.long)\n",
        "n = int(0.9*len(data)) \n",
        "train_data = data[:n]\n",
        "val_data = data[n:]\n"
      ]
    },
    {
      "cell_type": "markdown",
      "metadata": {
        "id": "hgsVvVxnymwf"
      },
      "source": [
        "### Create training examples and targets\n",
        "\n",
        "Our next step is to actually divide the text into example sequences that we'll use during training. Each input sequence that we feed into our RNN will contain `block_size` characters from the text. We'll also need to define a target sequence for each input sequence, which will be used in training the RNN to predict the next character. For each input, the corresponding target will contain the same length of text, except shifted one character to the right.\n",
        "\n",
        "To do this, we'll break the text into chunks of `1:block_size+1`. Suppose `block_size` is 4 and our text is \"Hello\". Then, our input sequence is \"Hell\" and the target sequence is \"ello\".\n",
        "\n",
        "The batch method will then let us convert this stream of character indices to sequences of the desired size."
      ]
    },
    {
      "cell_type": "code",
      "execution_count": null,
      "metadata": {
        "id": "2ZwOJuRZMADr"
      },
      "outputs": [],
      "source": [
        "def get_batch(split):\n",
        "    # generate a small batch of data of inputs x and targets y\n",
        "    data = train_data if split == 'train' else val_data\n",
        "    ix = torch.randint(len(data) - block_size, (batch_size,))\n",
        "    x = torch.stack([data[i:i+block_size] for i in ix])\n",
        "    y = torch.stack([data[i+1:i+block_size+1] for i in ix])\n",
        "    x, y = x.to(device), y.to(device)\n",
        "    return x, y"
      ]
    },
    {
      "cell_type": "code",
      "execution_count": null,
      "metadata": {
        "id": "wv1JKqMcMADr"
      },
      "outputs": [],
      "source": [
        "@torch.no_grad()\n",
        "def estimate_loss():\n",
        "    out = {}\n",
        "    model.eval()\n",
        "    for split in ['train', 'val']:\n",
        "        losses = torch.zeros(eval_iters)\n",
        "        for k in range(eval_iters):\n",
        "            X, Y = get_batch(split)\n",
        "            logits, loss = model(X, Y)\n",
        "            losses[k] = loss.item()\n",
        "        out[split] = losses.mean()\n",
        "    model.train()\n",
        "    return out"
      ]
    },
    {
      "cell_type": "code",
      "source": [
        "class Head(nn.Module):\n",
        "\n",
        "    def __init__(self, head_size):\n",
        "        super().__init__()\n",
        "        self.key = nn.Linear(n_embd, head_size, bias=False)\n",
        "        self.query = nn.Linear(n_embd, head_size, bias=False)\n",
        "        self.value = nn.Linear(n_embd, head_size, bias=False)\n",
        "        self.register_buffer('tril', torch.tril(torch.ones(block_size, block_size)))\n",
        "\n",
        "        self.dropout = nn.Dropout(dropout)\n",
        "\n",
        "    def forward(self, x):\n",
        "        # input of size (batch, time-step, channels)\n",
        "        # output of size (batch, time-step, head size)\n",
        "        B,T,C = x.shape\n",
        "        k = self.key(x)   # (B,T,hs)\n",
        "        q = self.query(x) # (B,T,hs)\n",
        "        # compute attention scores (\"affinities\")\n",
        "        wei = q @ k.transpose(-2,-1) * k.shape[-1]**-0.5 # (B, T, hs) @ (B, hs, T) -> (B, T, T)\n",
        "        wei = wei.masked_fill(self.tril[:T, :T] == 0, float('-inf')) # (B, T, T)\n",
        "        wei = F.softmax(wei, dim=-1) # (B, T, T)\n",
        "        wei = self.dropout(wei)\n",
        "        # perform the weighted aggregation of the values\n",
        "        v = self.value(x) # (B,T,hs)\n",
        "        out = wei @ v # (B, T, T) @ (B, T, hs) -> (B, T, hs)\n",
        "        return out\n",
        "\n",
        "class MultiHeadAttention(nn.Module):\n",
        "\n",
        "    def __init__(self, num_heads, head_size):\n",
        "        super().__init__()\n",
        "        self.heads = nn.ModuleList([Head(head_size) for _ in range(num_heads)])\n",
        "        self.proj = nn.Linear(head_size * num_heads, n_embd)\n",
        "        self.dropout = nn.Dropout(dropout)\n",
        "\n",
        "    def forward(self, x):\n",
        "        out = torch.cat([h(x) for h in self.heads], dim=-1)\n",
        "        out = self.dropout(self.proj(out))\n",
        "        return out\n",
        "\n",
        "class FeedFoward(nn.Module):\n",
        "    \n",
        "    def __init__(self, n_embd):\n",
        "        super().__init__()\n",
        "        self.net = nn.Sequential(\n",
        "            nn.Linear(n_embd, 4 * n_embd),\n",
        "            nn.ReLU(),\n",
        "            nn.Linear(4 * n_embd, n_embd),\n",
        "            nn.Dropout(dropout),\n",
        "        )\n",
        "\n",
        "    def forward(self, x):\n",
        "        return self.net(x)\n",
        "\n",
        "class Block(nn.Module):\n",
        "\n",
        "    def __init__(self, n_embd, n_head):\n",
        "        # n_embd: embedding dimension, n_head: the number of heads we'd like\n",
        "        super().__init__()\n",
        "        head_size = n_embd // n_head\n",
        "        self.sa = MultiHeadAttention(n_head, head_size)\n",
        "        self.ffwd = FeedFoward(n_embd)\n",
        "        self.ln1 = nn.LayerNorm(n_embd)\n",
        "        self.ln2 = nn.LayerNorm(n_embd)\n",
        "\n",
        "    def forward(self, x):\n",
        "        x = x + self.sa(self.ln1(x))\n",
        "        x = x + self.ffwd(self.ln2(x))\n",
        "        return x\n",
        "\n",
        "class GPTLanguageModel(nn.Module):\n",
        "\n",
        "    def __init__(self):\n",
        "        super().__init__()\n",
        "        # each token directly reads off the logits for the next token from a lookup table\n",
        "        self.token_embedding_table = nn.Embedding(vocab_size, n_embd)\n",
        "        self.position_embedding_table = nn.Embedding(block_size, n_embd)\n",
        "        self.blocks = nn.Sequential(*[Block(n_embd, n_head=n_head) for _ in range(n_layer)])\n",
        "        self.ln_f = nn.LayerNorm(n_embd) # final layer norm\n",
        "        self.lm_head = nn.Linear(n_embd, vocab_size)\n",
        "\n",
        "        # better init, not covered in the original GPT video, but important, will cover in followup video\n",
        "        self.apply(self._init_weights)\n",
        "\n",
        "    def _init_weights(self, module):\n",
        "        if isinstance(module, nn.Linear):\n",
        "            torch.nn.init.normal_(module.weight, mean=0.0, std=0.02)\n",
        "            if module.bias is not None:\n",
        "                torch.nn.init.zeros_(module.bias)\n",
        "        elif isinstance(module, nn.Embedding):\n",
        "            torch.nn.init.normal_(module.weight, mean=0.0, std=0.02)\n",
        "\n",
        "    def forward(self, idx, targets=None):\n",
        "        B, T = idx.shape\n",
        "\n",
        "        # idx and targets are both (B,T) tensor of integers\n",
        "        tok_emb = self.token_embedding_table(idx) # (B,T,C)\n",
        "        pos_emb = self.position_embedding_table(torch.arange(T, device=device)) # (T,C)\n",
        "        x = tok_emb + pos_emb # (B,T,C)\n",
        "        x = self.blocks(x) # (B,T,C)\n",
        "        x = self.ln_f(x) # (B,T,C)\n",
        "        logits = self.lm_head(x) # (B,T,vocab_size)\n",
        "\n",
        "        if targets is None:\n",
        "            loss = None\n",
        "        else:\n",
        "            B, T, C = logits.shape\n",
        "            logits = logits.view(B*T, C)\n",
        "            targets = targets.view(B*T)\n",
        "            loss = F.cross_entropy(logits, targets)\n",
        "\n",
        "        return logits, loss\n",
        "\n",
        "    def generate(self, idx, max_new_tokens):\n",
        "        # idx is (B, T) array of indices in the current context\n",
        "        for _ in range(max_new_tokens):\n",
        "            # crop idx to the last block_size tokens\n",
        "            idx_cond = idx[:, -block_size:]\n",
        "            # get the predictions\n",
        "            logits, loss = self(idx_cond)\n",
        "            # focus only on the last time step\n",
        "            logits = logits[:, -1, :] # becomes (B, C)\n",
        "            # apply softmax to get probabilities\n",
        "            probs = F.softmax(logits, dim=-1) # (B, C)\n",
        "            # sample from the distribution\n",
        "            idx_next = torch.multinomial(probs, num_samples=1) # (B, 1)\n",
        "            # append sampled index to the running sequence\n",
        "            idx = torch.cat((idx, idx_next), dim=1) # (B, T+1)\n",
        "        return idx"
      ],
      "metadata": {
        "id": "VIY1GHKuGHeh"
      },
      "execution_count": null,
      "outputs": []
    },
    {
      "cell_type": "markdown",
      "source": [
        "Hyperparameters"
      ],
      "metadata": {
        "id": "8vmdtVFEFZ9T"
      }
    },
    {
      "cell_type": "code",
      "execution_count": null,
      "metadata": {
        "id": "7AVMG9_1MADp"
      },
      "outputs": [],
      "source": [
        "# hyperparameters\n",
        "batch_size = 32 \n",
        "block_size = 256 \n",
        "max_iters = 5000\n",
        "eval_interval = 100\n",
        "learning_rate = 3e-4\n",
        "device = 'cuda' if torch.cuda.is_available() else 'cpu'\n",
        "eval_iters = 200\n",
        "n_embd = 384\n",
        "n_head = 6\n",
        "n_layer = 6\n",
        "dropout = 0.2\n",
        "# ------------"
      ]
    },
    {
      "cell_type": "code",
      "execution_count": null,
      "metadata": {
        "id": "SrgSvZLiMADr",
        "outputId": "0a97259e-9a9c-4551-ca38-215b75b5f8f5"
      },
      "outputs": [
        {
          "name": "stdout",
          "output_type": "stream",
          "text": [
            "10.788929 M parameters\n",
            "step 0: train loss 4.2216, val loss 4.2311\n",
            "step 100: train loss 2.4996, val loss 2.5068\n",
            "step 200: train loss 2.4254, val loss 2.4476\n",
            "step 300: train loss 2.3382, val loss 2.3761\n",
            "step 400: train loss 2.1729, val loss 2.2405\n",
            "step 500: train loss 1.9779, val loss 2.0798\n",
            "step 600: train loss 1.8293, val loss 1.9633\n",
            "step 700: train loss 1.7201, val loss 1.8905\n",
            "step 800: train loss 1.6369, val loss 1.8155\n",
            "step 900: train loss 1.5729, val loss 1.7416\n",
            "step 1000: train loss 1.5209, val loss 1.7072\n",
            "step 1100: train loss 1.4833, val loss 1.6864\n",
            "step 1200: train loss 1.4525, val loss 1.6472\n",
            "step 1300: train loss 1.4213, val loss 1.6363\n",
            "step 1400: train loss 1.4042, val loss 1.6197\n",
            "step 1500: train loss 1.3720, val loss 1.5975\n",
            "step 1600: train loss 1.3639, val loss 1.5861\n",
            "step 1700: train loss 1.3499, val loss 1.5798\n",
            "step 1800: train loss 1.3183, val loss 1.5606\n",
            "step 1900: train loss 1.3077, val loss 1.5497\n",
            "step 2000: train loss 1.2946, val loss 1.5442\n",
            "step 2100: train loss 1.2878, val loss 1.5378\n",
            "step 2200: train loss 1.2752, val loss 1.5320\n",
            "step 2300: train loss 1.2655, val loss 1.5239\n",
            "step 2400: train loss 1.2458, val loss 1.5270\n",
            "step 2500: train loss 1.2454, val loss 1.5189\n",
            "step 2600: train loss 1.2313, val loss 1.5078\n",
            "step 2700: train loss 1.2207, val loss 1.5038\n",
            "step 2800: train loss 1.2170, val loss 1.5121\n",
            "step 2900: train loss 1.2025, val loss 1.4942\n",
            "step 3000: train loss 1.1923, val loss 1.4840\n",
            "step 3100: train loss 1.1843, val loss 1.4888\n",
            "step 3200: train loss 1.1806, val loss 1.4889\n",
            "step 3300: train loss 1.1741, val loss 1.4924\n",
            "step 3400: train loss 1.1636, val loss 1.4862\n",
            "step 3500: train loss 1.1598, val loss 1.4877\n",
            "step 3600: train loss 1.1553, val loss 1.4913\n",
            "step 3700: train loss 1.1463, val loss 1.4859\n",
            "step 3800: train loss 1.1335, val loss 1.4876\n",
            "step 3900: train loss 1.1327, val loss 1.4904\n",
            "step 4000: train loss 1.1191, val loss 1.4874\n",
            "step 4100: train loss 1.1151, val loss 1.4763\n",
            "step 4200: train loss 1.1083, val loss 1.4941\n",
            "step 4300: train loss 1.1046, val loss 1.4891\n",
            "step 4400: train loss 1.0964, val loss 1.4888\n",
            "step 4500: train loss 1.0934, val loss 1.4928\n",
            "step 4600: train loss 1.0863, val loss 1.5031\n",
            "step 4700: train loss 1.0835, val loss 1.5014\n",
            "step 4800: train loss 1.0723, val loss 1.4875\n",
            "step 4900: train loss 1.0636, val loss 1.4784\n",
            "step 4999: train loss 1.0630, val loss 1.4851\n"
          ]
        }
      ],
      "source": [
        "model = GPTLanguageModel()\n",
        "m = model.to(device)\n",
        "# print the number of parameters in the model\n",
        "print(sum(p.numel() for p in m.parameters())/1e6, 'M parameters')\n",
        "\n",
        "# create a PyTorch optimizer\n",
        "optimizer = torch.optim.AdamW(model.parameters(), lr=learning_rate)\n",
        "\n",
        "for iter in range(max_iters):\n",
        "\n",
        "    # every once in a while evaluate the loss on train and val sets\n",
        "    if iter % eval_interval == 0 or iter == max_iters - 1:\n",
        "        losses = estimate_loss()\n",
        "        print(f\"step {iter}: train loss {losses['train']:.4f}, val loss {losses['val']:.4f}\")\n",
        "\n",
        "    # sample a batch of data\n",
        "    xb, yb = get_batch('train')\n",
        "\n",
        "    # evaluate the loss\n",
        "    logits, loss = model(xb, yb)\n",
        "    optimizer.zero_grad(set_to_none=True)\n",
        "    loss.backward()\n",
        "    optimizer.step()"
      ]
    },
    {
      "cell_type": "code",
      "execution_count": null,
      "metadata": {
        "id": "GSCdQQC6MADt",
        "outputId": "9526bc9f-7ba7-421e-8a2d-c1e8f176fec6"
      },
      "outputs": [
        {
          "name": "stdout",
          "output_type": "stream",
          "text": [
            "\n",
            "Look babshiond-shall behold, therefore,\n",
            "No present meep whilst no other; but, come,\n",
            "For hurtful maids thither pecepture, tau odd stand,\n",
            "Withouts striumphant wended to die, since stircve-up\n",
            "Your coal so Capule? makesbuft, known this?\n",
            "\n",
            "MARCIUS:\n",
            "His nobler service and dare know to their presence\n",
            "The marry malice of my arms. Dull gluck?\n",
            "\n",
            "MARCIUS:\n",
            "He tell always the prison with the father,\n",
            "For I axe for the face to enter him out\n",
            "Which doth deful he is fair. Wherefore, gentlewoman man!\n",
            "He dit is to su\n"
          ]
        }
      ],
      "source": [
        "# generate from the model\n",
        "context = torch.zeros((1, 1), dtype=torch.long, device=device)\n",
        "print(decode(m.generate(context, max_new_tokens=500)[0].tolist()))"
      ]
    },
    {
      "cell_type": "code",
      "execution_count": null,
      "metadata": {
        "id": "_STH_MwWMADt",
        "outputId": "faebdc36-a9e3-4956-84cc-d62713a4e2c4"
      },
      "outputs": [
        {
          "data": {
            "text/plain": [
              "10001"
            ]
          },
          "execution_count": 95,
          "metadata": {},
          "output_type": "execute_result"
        }
      ],
      "source": [
        "open('more.txt', 'w').write(decode(m.generate(context, max_new_tokens=10000)[0].tolist()))"
      ]
    },
    {
      "cell_type": "code",
      "execution_count": null,
      "metadata": {
        "id": "qQ1ODnauMADu"
      },
      "outputs": [],
      "source": []
    }
  ],
  "metadata": {
    "kernelspec": {
      "display_name": "Python 3",
      "language": "python",
      "name": "python3"
    },
    "language_info": {
      "codemirror_mode": {
        "name": "ipython",
        "version": 3
      },
      "file_extension": ".py",
      "mimetype": "text/x-python",
      "name": "python",
      "nbconvert_exporter": "python",
      "pygments_lexer": "ipython3",
      "version": "3.8.5"
    },
    "colab": {
      "provenance": []
    }
  },
  "nbformat": 4,
  "nbformat_minor": 0
}